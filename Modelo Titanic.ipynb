{
 "cells": [
  {
   "cell_type": "markdown",
   "id": "891281a3",
   "metadata": {
    "ExecuteTime": {
     "end_time": "2023-04-02T22:46:53.843707Z",
     "start_time": "2023-04-02T22:46:53.836726Z"
    }
   },
   "source": [
    "\n",
    "<h3><center>Unidad 2 - Etapa 3 - Componente práctico - Prácticas simuladas</center></h3>\n",
    "<h3><center>Jancel Hernan Perez Paternina</center></h3>\n",
    "<h3><center>Grupo: Análisis de datos_202016908</center></h3>\n",
    "\n",
    "<h3><center>Yackeline Hernández</center></h3> \n",
    "<h3><center>Universidad Nacional Abierta y a Distancia-UNAD\n",
    "<p><center>Escuela de Ciencias Básicas, Tecnología e Ingeniería\n",
    "<p><center>Ingeniería de Sistemas\n",
    "    \n",
    "<h4><center>Cali – 2 de abril de 2023</center></h4>"
   ]
  },
  {
   "cell_type": "markdown",
   "id": "9721a08a",
   "metadata": {},
   "source": [
    "## Definiciones"
   ]
  },
  {
   "cell_type": "markdown",
   "id": "c1b8fe94",
   "metadata": {},
   "source": [
    "**Datos de Train:** Los datos de entrenamiento se refieren a una parte del conjunto de datos que se utiliza para entrenar un modelo de aprendizaje automático. En conjunto de datos se separa en datos de entrenamiento y otra para la evaluación (o prueba) del modelo.\n",
    "\n",
    "**Validation:** La validación es el proceso de evaluar el rendimiento de un modelo durante la fase de entrenamiento.La validación se realiza dividiendo los datos de entrenamiento en dos conjuntos: el conjunto de entrenamiento y el conjunto de validación. \n",
    "\n",
    "**Test:** El test es el proceso de evaluar el rendimiento de un modelo en un conjunto de datos completamente nuevo  El objetivo del conjunto de test es evaluar el rendimiento del modelo en datos que no ha visto antes y determinar si el modelo generaliza bien o si hay sobreajuste o subajuste.\n",
    "\n",
    "\n",
    "**Gradient descent:** El descenso de gradiente es un algoritmo utilizado en el aprendizaje automático para ajustar los parámetros de un modelo de forma que se minimice una función de costo. El algoritmo se basa en ir ajustando los parámetros del modelo en pequeñas cantidades hacia la dirección que reduce el valor de la función de costo. El objetivo es encontrar los valores de los parámetros que mejor se ajusten a los datos de entrenamiento\n",
    "\n",
    "**Machine learning losses:** son funciones matemáticas utilizadas para evaluar la diferencia entre las predicciones del modelo y los valores reales de los datos de entrenamiento\n",
    "\n",
    "**cross-validation:** es una técnica utilizada en el aprendizaje automático útil para evitar el sobreajuste (overfitting) y la subestimación (underfitting) del modelo, ya que permite una evaluación más objetiva del rendimiento del modelo en datos no vistos. También puede ayudar a seleccionar los hiperparámetros óptimos del modelo y a identificar problemas de sesgo."
   ]
  },
  {
   "cell_type": "markdown",
   "id": "5702effb",
   "metadata": {},
   "source": [
    "## Ingenieria de caracteristicas"
   ]
  },
  {
   "cell_type": "markdown",
   "id": "ff40a174",
   "metadata": {},
   "source": [
    "La ingenieria de caracteristicas es un proceso en el cual extaemos y trasformamos los datos sin procesar para crear un modelo de Machine Learning optimo y preciso. \n",
    "Entre los pasos a realizar dentro de la ingenierdia de caracteristicas encontramos el entendimiento, la extacción, limpieza, transformación, creacion y almacenamiento de los datos."
   ]
  },
  {
   "cell_type": "code",
   "execution_count": 1,
   "id": "a648457e",
   "metadata": {
    "ExecuteTime": {
     "end_time": "2023-04-02T22:05:23.383262Z",
     "start_time": "2023-04-02T22:05:22.064322Z"
    }
   },
   "outputs": [],
   "source": [
    "import pandas as pd\n",
    "import numpy as np\n",
    "import matplotlib.pyplot as plt\n",
    "import seaborn as sns\n",
    "import datetime as dt\n",
    "from pathlib import Path\n",
    "import warnings"
   ]
  },
  {
   "cell_type": "code",
   "execution_count": 2,
   "id": "d5032849",
   "metadata": {
    "ExecuteTime": {
     "end_time": "2023-04-02T22:05:23.744628Z",
     "start_time": "2023-04-02T22:05:23.386066Z"
    }
   },
   "outputs": [],
   "source": [
    "from sklearn.model_selection import train_test_split\n",
    "from sklearn.tree import DecisionTreeClassifier\n",
    "from sklearn.linear_model import LogisticRegression\n",
    "from sklearn import svm\n",
    "from sklearn.neighbors import KNeighborsClassifier\n",
    "from sklearn.metrics import confusion_matrix\n",
    "from sklearn.datasets import make_classification\n",
    "from sklearn import metrics"
   ]
  },
  {
   "cell_type": "code",
   "execution_count": 3,
   "id": "ddc0b042",
   "metadata": {
    "ExecuteTime": {
     "end_time": "2023-04-02T22:05:23.785730Z",
     "start_time": "2023-04-02T22:05:23.746628Z"
    }
   },
   "outputs": [],
   "source": [
    "import graphviz\n",
    "from sklearn.tree import DecisionTreeRegressor, export_graphviz\n",
    "import pydotplus"
   ]
  },
  {
   "cell_type": "code",
   "execution_count": 4,
   "id": "b521f1f9",
   "metadata": {
    "ExecuteTime": {
     "end_time": "2023-04-02T22:05:23.801486Z",
     "start_time": "2023-04-02T22:05:23.788781Z"
    }
   },
   "outputs": [],
   "source": [
    "pd.options.display.max_columns = None\n",
    "pd.options.display.max_rows = None\n",
    "pd.options.display.float_format = '{:,.2f}'.format\n",
    "pd.set_option(\"max_info_columns\",200)\n",
    "pd.set_option(\"max_info_columns\", 200)\n",
    "warnings.filterwarnings('ignore')"
   ]
  },
  {
   "cell_type": "markdown",
   "id": "a8ac80e3",
   "metadata": {},
   "source": [
    "## Analisis Exploratorio"
   ]
  },
  {
   "cell_type": "markdown",
   "id": "f78a8b26",
   "metadata": {},
   "source": [
    "### Cargue de archivos"
   ]
  },
  {
   "cell_type": "code",
   "execution_count": 5,
   "id": "616063e4",
   "metadata": {
    "ExecuteTime": {
     "end_time": "2023-04-02T22:05:23.821045Z",
     "start_time": "2023-04-02T22:05:23.803645Z"
    }
   },
   "outputs": [],
   "source": [
    "path = Path(f'C:\\\\Users\\\\comjpp01\\\\OneDrive\\\\\\Ingenieria de sistemas\\\\35_Analisis de datos\\\\Unidad 2 - Etapa 3 - Componente práctico - Prácticas simuladas\\\\archive (3)')\n",
    "df_train = pd.read_csv(f'{path}\\\\train.csv')\n",
    "df_test = pd.read_csv(f'{path}\\\\test.csv')"
   ]
  },
  {
   "cell_type": "markdown",
   "id": "1efab4ce",
   "metadata": {},
   "source": [
    "### visualización de dataframe"
   ]
  },
  {
   "cell_type": "code",
   "execution_count": 6,
   "id": "3800ee42",
   "metadata": {
    "ExecuteTime": {
     "end_time": "2023-04-02T22:05:23.836973Z",
     "start_time": "2023-04-02T22:05:23.823039Z"
    }
   },
   "outputs": [
    {
     "data": {
      "text/html": [
       "<div>\n",
       "<style scoped>\n",
       "    .dataframe tbody tr th:only-of-type {\n",
       "        vertical-align: middle;\n",
       "    }\n",
       "\n",
       "    .dataframe tbody tr th {\n",
       "        vertical-align: top;\n",
       "    }\n",
       "\n",
       "    .dataframe thead th {\n",
       "        text-align: right;\n",
       "    }\n",
       "</style>\n",
       "<table border=\"1\" class=\"dataframe\">\n",
       "  <thead>\n",
       "    <tr style=\"text-align: right;\">\n",
       "      <th></th>\n",
       "      <th>PassengerId</th>\n",
       "      <th>Survived</th>\n",
       "      <th>Pclass</th>\n",
       "      <th>Name</th>\n",
       "      <th>Sex</th>\n",
       "      <th>Age</th>\n",
       "      <th>SibSp</th>\n",
       "      <th>Parch</th>\n",
       "      <th>Ticket</th>\n",
       "      <th>Fare</th>\n",
       "      <th>Cabin</th>\n",
       "      <th>Embarked</th>\n",
       "    </tr>\n",
       "  </thead>\n",
       "  <tbody>\n",
       "    <tr>\n",
       "      <th>0</th>\n",
       "      <td>1</td>\n",
       "      <td>0</td>\n",
       "      <td>3</td>\n",
       "      <td>Braund, Mr. Owen Harris</td>\n",
       "      <td>male</td>\n",
       "      <td>22.00</td>\n",
       "      <td>1</td>\n",
       "      <td>0</td>\n",
       "      <td>A/5 21171</td>\n",
       "      <td>7.25</td>\n",
       "      <td>NaN</td>\n",
       "      <td>S</td>\n",
       "    </tr>\n",
       "    <tr>\n",
       "      <th>1</th>\n",
       "      <td>2</td>\n",
       "      <td>1</td>\n",
       "      <td>1</td>\n",
       "      <td>Cumings, Mrs. John Bradley (Florence Briggs Th...</td>\n",
       "      <td>female</td>\n",
       "      <td>38.00</td>\n",
       "      <td>1</td>\n",
       "      <td>0</td>\n",
       "      <td>PC 17599</td>\n",
       "      <td>71.28</td>\n",
       "      <td>C85</td>\n",
       "      <td>C</td>\n",
       "    </tr>\n",
       "    <tr>\n",
       "      <th>2</th>\n",
       "      <td>3</td>\n",
       "      <td>1</td>\n",
       "      <td>3</td>\n",
       "      <td>Heikkinen, Miss. Laina</td>\n",
       "      <td>female</td>\n",
       "      <td>26.00</td>\n",
       "      <td>0</td>\n",
       "      <td>0</td>\n",
       "      <td>STON/O2. 3101282</td>\n",
       "      <td>7.92</td>\n",
       "      <td>NaN</td>\n",
       "      <td>S</td>\n",
       "    </tr>\n",
       "    <tr>\n",
       "      <th>3</th>\n",
       "      <td>4</td>\n",
       "      <td>1</td>\n",
       "      <td>1</td>\n",
       "      <td>Futrelle, Mrs. Jacques Heath (Lily May Peel)</td>\n",
       "      <td>female</td>\n",
       "      <td>35.00</td>\n",
       "      <td>1</td>\n",
       "      <td>0</td>\n",
       "      <td>113803</td>\n",
       "      <td>53.10</td>\n",
       "      <td>C123</td>\n",
       "      <td>S</td>\n",
       "    </tr>\n",
       "    <tr>\n",
       "      <th>4</th>\n",
       "      <td>5</td>\n",
       "      <td>0</td>\n",
       "      <td>3</td>\n",
       "      <td>Allen, Mr. William Henry</td>\n",
       "      <td>male</td>\n",
       "      <td>35.00</td>\n",
       "      <td>0</td>\n",
       "      <td>0</td>\n",
       "      <td>373450</td>\n",
       "      <td>8.05</td>\n",
       "      <td>NaN</td>\n",
       "      <td>S</td>\n",
       "    </tr>\n",
       "  </tbody>\n",
       "</table>\n",
       "</div>"
      ],
      "text/plain": [
       "   PassengerId  Survived  Pclass  \\\n",
       "0            1         0       3   \n",
       "1            2         1       1   \n",
       "2            3         1       3   \n",
       "3            4         1       1   \n",
       "4            5         0       3   \n",
       "\n",
       "                                                Name     Sex   Age  SibSp  \\\n",
       "0                            Braund, Mr. Owen Harris    male 22.00      1   \n",
       "1  Cumings, Mrs. John Bradley (Florence Briggs Th...  female 38.00      1   \n",
       "2                             Heikkinen, Miss. Laina  female 26.00      0   \n",
       "3       Futrelle, Mrs. Jacques Heath (Lily May Peel)  female 35.00      1   \n",
       "4                           Allen, Mr. William Henry    male 35.00      0   \n",
       "\n",
       "   Parch            Ticket  Fare Cabin Embarked  \n",
       "0      0         A/5 21171  7.25   NaN        S  \n",
       "1      0          PC 17599 71.28   C85        C  \n",
       "2      0  STON/O2. 3101282  7.92   NaN        S  \n",
       "3      0            113803 53.10  C123        S  \n",
       "4      0            373450  8.05   NaN        S  "
      ]
     },
     "execution_count": 6,
     "metadata": {},
     "output_type": "execute_result"
    }
   ],
   "source": [
    "df_train.head()"
   ]
  },
  {
   "cell_type": "code",
   "execution_count": 7,
   "id": "8bfa661e",
   "metadata": {
    "ExecuteTime": {
     "end_time": "2023-04-02T22:05:23.851818Z",
     "start_time": "2023-04-02T22:05:23.837970Z"
    }
   },
   "outputs": [
    {
     "data": {
      "text/html": [
       "<div>\n",
       "<style scoped>\n",
       "    .dataframe tbody tr th:only-of-type {\n",
       "        vertical-align: middle;\n",
       "    }\n",
       "\n",
       "    .dataframe tbody tr th {\n",
       "        vertical-align: top;\n",
       "    }\n",
       "\n",
       "    .dataframe thead th {\n",
       "        text-align: right;\n",
       "    }\n",
       "</style>\n",
       "<table border=\"1\" class=\"dataframe\">\n",
       "  <thead>\n",
       "    <tr style=\"text-align: right;\">\n",
       "      <th></th>\n",
       "      <th>PassengerId</th>\n",
       "      <th>Pclass</th>\n",
       "      <th>Name</th>\n",
       "      <th>Sex</th>\n",
       "      <th>Age</th>\n",
       "      <th>SibSp</th>\n",
       "      <th>Parch</th>\n",
       "      <th>Ticket</th>\n",
       "      <th>Fare</th>\n",
       "      <th>Cabin</th>\n",
       "      <th>Embarked</th>\n",
       "    </tr>\n",
       "  </thead>\n",
       "  <tbody>\n",
       "    <tr>\n",
       "      <th>0</th>\n",
       "      <td>892</td>\n",
       "      <td>3</td>\n",
       "      <td>Kelly, Mr. James</td>\n",
       "      <td>male</td>\n",
       "      <td>34.50</td>\n",
       "      <td>0</td>\n",
       "      <td>0</td>\n",
       "      <td>330911</td>\n",
       "      <td>7.83</td>\n",
       "      <td>NaN</td>\n",
       "      <td>Q</td>\n",
       "    </tr>\n",
       "    <tr>\n",
       "      <th>1</th>\n",
       "      <td>893</td>\n",
       "      <td>3</td>\n",
       "      <td>Wilkes, Mrs. James (Ellen Needs)</td>\n",
       "      <td>female</td>\n",
       "      <td>47.00</td>\n",
       "      <td>1</td>\n",
       "      <td>0</td>\n",
       "      <td>363272</td>\n",
       "      <td>7.00</td>\n",
       "      <td>NaN</td>\n",
       "      <td>S</td>\n",
       "    </tr>\n",
       "    <tr>\n",
       "      <th>2</th>\n",
       "      <td>894</td>\n",
       "      <td>2</td>\n",
       "      <td>Myles, Mr. Thomas Francis</td>\n",
       "      <td>male</td>\n",
       "      <td>62.00</td>\n",
       "      <td>0</td>\n",
       "      <td>0</td>\n",
       "      <td>240276</td>\n",
       "      <td>9.69</td>\n",
       "      <td>NaN</td>\n",
       "      <td>Q</td>\n",
       "    </tr>\n",
       "    <tr>\n",
       "      <th>3</th>\n",
       "      <td>895</td>\n",
       "      <td>3</td>\n",
       "      <td>Wirz, Mr. Albert</td>\n",
       "      <td>male</td>\n",
       "      <td>27.00</td>\n",
       "      <td>0</td>\n",
       "      <td>0</td>\n",
       "      <td>315154</td>\n",
       "      <td>8.66</td>\n",
       "      <td>NaN</td>\n",
       "      <td>S</td>\n",
       "    </tr>\n",
       "    <tr>\n",
       "      <th>4</th>\n",
       "      <td>896</td>\n",
       "      <td>3</td>\n",
       "      <td>Hirvonen, Mrs. Alexander (Helga E Lindqvist)</td>\n",
       "      <td>female</td>\n",
       "      <td>22.00</td>\n",
       "      <td>1</td>\n",
       "      <td>1</td>\n",
       "      <td>3101298</td>\n",
       "      <td>12.29</td>\n",
       "      <td>NaN</td>\n",
       "      <td>S</td>\n",
       "    </tr>\n",
       "  </tbody>\n",
       "</table>\n",
       "</div>"
      ],
      "text/plain": [
       "   PassengerId  Pclass                                          Name     Sex  \\\n",
       "0          892       3                              Kelly, Mr. James    male   \n",
       "1          893       3              Wilkes, Mrs. James (Ellen Needs)  female   \n",
       "2          894       2                     Myles, Mr. Thomas Francis    male   \n",
       "3          895       3                              Wirz, Mr. Albert    male   \n",
       "4          896       3  Hirvonen, Mrs. Alexander (Helga E Lindqvist)  female   \n",
       "\n",
       "    Age  SibSp  Parch   Ticket  Fare Cabin Embarked  \n",
       "0 34.50      0      0   330911  7.83   NaN        Q  \n",
       "1 47.00      1      0   363272  7.00   NaN        S  \n",
       "2 62.00      0      0   240276  9.69   NaN        Q  \n",
       "3 27.00      0      0   315154  8.66   NaN        S  \n",
       "4 22.00      1      1  3101298 12.29   NaN        S  "
      ]
     },
     "execution_count": 7,
     "metadata": {},
     "output_type": "execute_result"
    }
   ],
   "source": [
    "df_test.head()"
   ]
  },
  {
   "cell_type": "markdown",
   "id": "b535985e",
   "metadata": {},
   "source": [
    "### Ver dimiension de los datos"
   ]
  },
  {
   "cell_type": "code",
   "execution_count": 8,
   "id": "298563b9",
   "metadata": {
    "ExecuteTime": {
     "end_time": "2023-04-02T22:05:23.866776Z",
     "start_time": "2023-04-02T22:05:23.853812Z"
    }
   },
   "outputs": [
    {
     "name": "stdout",
     "output_type": "stream",
     "text": [
      "dimensionalidad train: (891, 12)\n"
     ]
    }
   ],
   "source": [
    "print(f'dimensionalidad train: {df_train.shape}')"
   ]
  },
  {
   "cell_type": "code",
   "execution_count": 9,
   "id": "ffa1e4c7",
   "metadata": {
    "ExecuteTime": {
     "end_time": "2023-04-02T22:05:23.878410Z",
     "start_time": "2023-04-02T22:05:23.869583Z"
    }
   },
   "outputs": [
    {
     "name": "stdout",
     "output_type": "stream",
     "text": [
      "dimensionalidad test: (418, 11)\n"
     ]
    }
   ],
   "source": [
    "print(f'dimensionalidad test: {df_test.shape}')"
   ]
  },
  {
   "cell_type": "markdown",
   "id": "7ad401fd",
   "metadata": {},
   "source": [
    "### ver tipo de datos de los dataframe"
   ]
  },
  {
   "cell_type": "code",
   "execution_count": 10,
   "id": "5fd3e62d",
   "metadata": {
    "ExecuteTime": {
     "end_time": "2023-04-02T22:05:23.893003Z",
     "start_time": "2023-04-02T22:05:23.882864Z"
    }
   },
   "outputs": [
    {
     "name": "stdout",
     "output_type": "stream",
     "text": [
      "<class 'pandas.core.frame.DataFrame'>\n",
      "RangeIndex: 891 entries, 0 to 890\n",
      "Data columns (total 12 columns):\n",
      " #   Column       Non-Null Count  Dtype  \n",
      "---  ------       --------------  -----  \n",
      " 0   PassengerId  891 non-null    int64  \n",
      " 1   Survived     891 non-null    int64  \n",
      " 2   Pclass       891 non-null    int64  \n",
      " 3   Name         891 non-null    object \n",
      " 4   Sex          891 non-null    object \n",
      " 5   Age          714 non-null    float64\n",
      " 6   SibSp        891 non-null    int64  \n",
      " 7   Parch        891 non-null    int64  \n",
      " 8   Ticket       891 non-null    object \n",
      " 9   Fare         891 non-null    float64\n",
      " 10  Cabin        204 non-null    object \n",
      " 11  Embarked     889 non-null    object \n",
      "dtypes: float64(2), int64(5), object(5)\n",
      "memory usage: 83.7+ KB\n"
     ]
    }
   ],
   "source": [
    "df_train.info()"
   ]
  },
  {
   "cell_type": "code",
   "execution_count": 11,
   "id": "f1cd4dff",
   "metadata": {
    "ExecuteTime": {
     "end_time": "2023-04-02T22:05:23.908949Z",
     "start_time": "2023-04-02T22:05:23.894832Z"
    }
   },
   "outputs": [
    {
     "name": "stdout",
     "output_type": "stream",
     "text": [
      "<class 'pandas.core.frame.DataFrame'>\n",
      "RangeIndex: 418 entries, 0 to 417\n",
      "Data columns (total 11 columns):\n",
      " #   Column       Non-Null Count  Dtype  \n",
      "---  ------       --------------  -----  \n",
      " 0   PassengerId  418 non-null    int64  \n",
      " 1   Pclass       418 non-null    int64  \n",
      " 2   Name         418 non-null    object \n",
      " 3   Sex          418 non-null    object \n",
      " 4   Age          332 non-null    float64\n",
      " 5   SibSp        418 non-null    int64  \n",
      " 6   Parch        418 non-null    int64  \n",
      " 7   Ticket       418 non-null    object \n",
      " 8   Fare         417 non-null    float64\n",
      " 9   Cabin        91 non-null     object \n",
      " 10  Embarked     418 non-null    object \n",
      "dtypes: float64(2), int64(4), object(5)\n",
      "memory usage: 36.0+ KB\n"
     ]
    }
   ],
   "source": [
    "df_test.info()"
   ]
  },
  {
   "cell_type": "markdown",
   "id": "02ba6cba",
   "metadata": {},
   "source": [
    "### Valores unicos por variable"
   ]
  },
  {
   "cell_type": "code",
   "execution_count": 12,
   "id": "9821d898",
   "metadata": {
    "ExecuteTime": {
     "end_time": "2023-04-02T22:05:23.924229Z",
     "start_time": "2023-04-02T22:05:23.911005Z"
    },
    "scrolled": true
   },
   "outputs": [
    {
     "data": {
      "text/plain": [
       "PassengerId    891\n",
       "Survived         2\n",
       "Pclass           3\n",
       "Name           891\n",
       "Sex              2\n",
       "Age             88\n",
       "SibSp            7\n",
       "Parch            7\n",
       "Ticket         681\n",
       "Fare           248\n",
       "Cabin          147\n",
       "Embarked         3\n",
       "dtype: int64"
      ]
     },
     "execution_count": 12,
     "metadata": {},
     "output_type": "execute_result"
    }
   ],
   "source": [
    "df_train.nunique()"
   ]
  },
  {
   "cell_type": "markdown",
   "id": "b9b5a0d0",
   "metadata": {},
   "source": [
    "Al observar los datos anteriores las columnas Sex, Cabin y Embarked son de tipo Categorico, para poder entrenar el modelo debemos cambiar estos datos a tipo de dato entero"
   ]
  },
  {
   "cell_type": "code",
   "execution_count": 13,
   "id": "9afd9a27",
   "metadata": {
    "ExecuteTime": {
     "end_time": "2023-04-02T22:05:23.941810Z",
     "start_time": "2023-04-02T22:05:23.926223Z"
    }
   },
   "outputs": [],
   "source": [
    "df_train[\"Sex\"] = df_train[\"Sex\"].astype(\"category\").cat.codes\n",
    "df_train[\"Embarked\"] = df_train[\"Embarked\"].astype(\"category\").cat.codes"
   ]
  },
  {
   "cell_type": "code",
   "execution_count": 14,
   "id": "0760fc64",
   "metadata": {
    "ExecuteTime": {
     "end_time": "2023-04-02T22:05:23.955263Z",
     "start_time": "2023-04-02T22:05:23.943791Z"
    }
   },
   "outputs": [],
   "source": [
    "df_test[\"Sex\"] = df_test[\"Sex\"].astype(\"category\").cat.codes\n",
    "df_test[\"Embarked\"] = df_test[\"Embarked\"].astype(\"category\").cat.codes"
   ]
  },
  {
   "cell_type": "markdown",
   "id": "ffa69e90",
   "metadata": {},
   "source": [
    "Eliminamos las variables que consideramos no son necesarias para el modelo"
   ]
  },
  {
   "cell_type": "code",
   "execution_count": 15,
   "id": "2a031232",
   "metadata": {
    "ExecuteTime": {
     "end_time": "2023-04-02T22:05:23.971012Z",
     "start_time": "2023-04-02T22:05:23.957239Z"
    }
   },
   "outputs": [],
   "source": [
    "df_train = df_train.drop(columns=[\"Name\",\"PassengerId\",\"Ticket\"])"
   ]
  },
  {
   "cell_type": "code",
   "execution_count": 16,
   "id": "d1a13a24",
   "metadata": {
    "ExecuteTime": {
     "end_time": "2023-04-02T22:05:23.987596Z",
     "start_time": "2023-04-02T22:05:23.973044Z"
    }
   },
   "outputs": [],
   "source": [
    "df_test = df_test.drop(columns=[\"Name\",\"Ticket\"])"
   ]
  },
  {
   "cell_type": "markdown",
   "id": "08969116",
   "metadata": {},
   "source": [
    "### Ver estadisticas del dataframe"
   ]
  },
  {
   "cell_type": "code",
   "execution_count": 17,
   "id": "e346f2c0",
   "metadata": {
    "ExecuteTime": {
     "end_time": "2023-04-02T22:05:24.020886Z",
     "start_time": "2023-04-02T22:05:23.989591Z"
    }
   },
   "outputs": [
    {
     "data": {
      "text/html": [
       "<div>\n",
       "<style scoped>\n",
       "    .dataframe tbody tr th:only-of-type {\n",
       "        vertical-align: middle;\n",
       "    }\n",
       "\n",
       "    .dataframe tbody tr th {\n",
       "        vertical-align: top;\n",
       "    }\n",
       "\n",
       "    .dataframe thead th {\n",
       "        text-align: right;\n",
       "    }\n",
       "</style>\n",
       "<table border=\"1\" class=\"dataframe\">\n",
       "  <thead>\n",
       "    <tr style=\"text-align: right;\">\n",
       "      <th></th>\n",
       "      <th>Survived</th>\n",
       "      <th>Pclass</th>\n",
       "      <th>Sex</th>\n",
       "      <th>Age</th>\n",
       "      <th>SibSp</th>\n",
       "      <th>Parch</th>\n",
       "      <th>Fare</th>\n",
       "      <th>Embarked</th>\n",
       "    </tr>\n",
       "  </thead>\n",
       "  <tbody>\n",
       "    <tr>\n",
       "      <th>count</th>\n",
       "      <td>891.00</td>\n",
       "      <td>891.00</td>\n",
       "      <td>891.00</td>\n",
       "      <td>714.00</td>\n",
       "      <td>891.00</td>\n",
       "      <td>891.00</td>\n",
       "      <td>891.00</td>\n",
       "      <td>891.00</td>\n",
       "    </tr>\n",
       "    <tr>\n",
       "      <th>mean</th>\n",
       "      <td>0.38</td>\n",
       "      <td>2.31</td>\n",
       "      <td>0.65</td>\n",
       "      <td>29.70</td>\n",
       "      <td>0.52</td>\n",
       "      <td>0.38</td>\n",
       "      <td>32.20</td>\n",
       "      <td>1.53</td>\n",
       "    </tr>\n",
       "    <tr>\n",
       "      <th>std</th>\n",
       "      <td>0.49</td>\n",
       "      <td>0.84</td>\n",
       "      <td>0.48</td>\n",
       "      <td>14.53</td>\n",
       "      <td>1.10</td>\n",
       "      <td>0.81</td>\n",
       "      <td>49.69</td>\n",
       "      <td>0.80</td>\n",
       "    </tr>\n",
       "    <tr>\n",
       "      <th>min</th>\n",
       "      <td>0.00</td>\n",
       "      <td>1.00</td>\n",
       "      <td>0.00</td>\n",
       "      <td>0.42</td>\n",
       "      <td>0.00</td>\n",
       "      <td>0.00</td>\n",
       "      <td>0.00</td>\n",
       "      <td>-1.00</td>\n",
       "    </tr>\n",
       "    <tr>\n",
       "      <th>25%</th>\n",
       "      <td>0.00</td>\n",
       "      <td>2.00</td>\n",
       "      <td>0.00</td>\n",
       "      <td>20.12</td>\n",
       "      <td>0.00</td>\n",
       "      <td>0.00</td>\n",
       "      <td>7.91</td>\n",
       "      <td>1.00</td>\n",
       "    </tr>\n",
       "    <tr>\n",
       "      <th>50%</th>\n",
       "      <td>0.00</td>\n",
       "      <td>3.00</td>\n",
       "      <td>1.00</td>\n",
       "      <td>28.00</td>\n",
       "      <td>0.00</td>\n",
       "      <td>0.00</td>\n",
       "      <td>14.45</td>\n",
       "      <td>2.00</td>\n",
       "    </tr>\n",
       "    <tr>\n",
       "      <th>75%</th>\n",
       "      <td>1.00</td>\n",
       "      <td>3.00</td>\n",
       "      <td>1.00</td>\n",
       "      <td>38.00</td>\n",
       "      <td>1.00</td>\n",
       "      <td>0.00</td>\n",
       "      <td>31.00</td>\n",
       "      <td>2.00</td>\n",
       "    </tr>\n",
       "    <tr>\n",
       "      <th>max</th>\n",
       "      <td>1.00</td>\n",
       "      <td>3.00</td>\n",
       "      <td>1.00</td>\n",
       "      <td>80.00</td>\n",
       "      <td>8.00</td>\n",
       "      <td>6.00</td>\n",
       "      <td>512.33</td>\n",
       "      <td>2.00</td>\n",
       "    </tr>\n",
       "  </tbody>\n",
       "</table>\n",
       "</div>"
      ],
      "text/plain": [
       "       Survived  Pclass    Sex    Age  SibSp  Parch   Fare  Embarked\n",
       "count    891.00  891.00 891.00 714.00 891.00 891.00 891.00    891.00\n",
       "mean       0.38    2.31   0.65  29.70   0.52   0.38  32.20      1.53\n",
       "std        0.49    0.84   0.48  14.53   1.10   0.81  49.69      0.80\n",
       "min        0.00    1.00   0.00   0.42   0.00   0.00   0.00     -1.00\n",
       "25%        0.00    2.00   0.00  20.12   0.00   0.00   7.91      1.00\n",
       "50%        0.00    3.00   1.00  28.00   0.00   0.00  14.45      2.00\n",
       "75%        1.00    3.00   1.00  38.00   1.00   0.00  31.00      2.00\n",
       "max        1.00    3.00   1.00  80.00   8.00   6.00 512.33      2.00"
      ]
     },
     "execution_count": 17,
     "metadata": {},
     "output_type": "execute_result"
    }
   ],
   "source": [
    "df_train.describe()"
   ]
  },
  {
   "cell_type": "code",
   "execution_count": 18,
   "id": "bfd33f71",
   "metadata": {
    "ExecuteTime": {
     "end_time": "2023-04-02T22:05:24.056706Z",
     "start_time": "2023-04-02T22:05:24.022881Z"
    }
   },
   "outputs": [
    {
     "data": {
      "text/html": [
       "<div>\n",
       "<style scoped>\n",
       "    .dataframe tbody tr th:only-of-type {\n",
       "        vertical-align: middle;\n",
       "    }\n",
       "\n",
       "    .dataframe tbody tr th {\n",
       "        vertical-align: top;\n",
       "    }\n",
       "\n",
       "    .dataframe thead th {\n",
       "        text-align: right;\n",
       "    }\n",
       "</style>\n",
       "<table border=\"1\" class=\"dataframe\">\n",
       "  <thead>\n",
       "    <tr style=\"text-align: right;\">\n",
       "      <th></th>\n",
       "      <th>PassengerId</th>\n",
       "      <th>Pclass</th>\n",
       "      <th>Sex</th>\n",
       "      <th>Age</th>\n",
       "      <th>SibSp</th>\n",
       "      <th>Parch</th>\n",
       "      <th>Fare</th>\n",
       "      <th>Embarked</th>\n",
       "    </tr>\n",
       "  </thead>\n",
       "  <tbody>\n",
       "    <tr>\n",
       "      <th>count</th>\n",
       "      <td>418.00</td>\n",
       "      <td>418.00</td>\n",
       "      <td>418.00</td>\n",
       "      <td>332.00</td>\n",
       "      <td>418.00</td>\n",
       "      <td>418.00</td>\n",
       "      <td>417.00</td>\n",
       "      <td>418.00</td>\n",
       "    </tr>\n",
       "    <tr>\n",
       "      <th>mean</th>\n",
       "      <td>1,100.50</td>\n",
       "      <td>2.27</td>\n",
       "      <td>0.64</td>\n",
       "      <td>30.27</td>\n",
       "      <td>0.45</td>\n",
       "      <td>0.39</td>\n",
       "      <td>35.63</td>\n",
       "      <td>1.40</td>\n",
       "    </tr>\n",
       "    <tr>\n",
       "      <th>std</th>\n",
       "      <td>120.81</td>\n",
       "      <td>0.84</td>\n",
       "      <td>0.48</td>\n",
       "      <td>14.18</td>\n",
       "      <td>0.90</td>\n",
       "      <td>0.98</td>\n",
       "      <td>55.91</td>\n",
       "      <td>0.85</td>\n",
       "    </tr>\n",
       "    <tr>\n",
       "      <th>min</th>\n",
       "      <td>892.00</td>\n",
       "      <td>1.00</td>\n",
       "      <td>0.00</td>\n",
       "      <td>0.17</td>\n",
       "      <td>0.00</td>\n",
       "      <td>0.00</td>\n",
       "      <td>0.00</td>\n",
       "      <td>0.00</td>\n",
       "    </tr>\n",
       "    <tr>\n",
       "      <th>25%</th>\n",
       "      <td>996.25</td>\n",
       "      <td>1.00</td>\n",
       "      <td>0.00</td>\n",
       "      <td>21.00</td>\n",
       "      <td>0.00</td>\n",
       "      <td>0.00</td>\n",
       "      <td>7.90</td>\n",
       "      <td>1.00</td>\n",
       "    </tr>\n",
       "    <tr>\n",
       "      <th>50%</th>\n",
       "      <td>1,100.50</td>\n",
       "      <td>3.00</td>\n",
       "      <td>1.00</td>\n",
       "      <td>27.00</td>\n",
       "      <td>0.00</td>\n",
       "      <td>0.00</td>\n",
       "      <td>14.45</td>\n",
       "      <td>2.00</td>\n",
       "    </tr>\n",
       "    <tr>\n",
       "      <th>75%</th>\n",
       "      <td>1,204.75</td>\n",
       "      <td>3.00</td>\n",
       "      <td>1.00</td>\n",
       "      <td>39.00</td>\n",
       "      <td>1.00</td>\n",
       "      <td>0.00</td>\n",
       "      <td>31.50</td>\n",
       "      <td>2.00</td>\n",
       "    </tr>\n",
       "    <tr>\n",
       "      <th>max</th>\n",
       "      <td>1,309.00</td>\n",
       "      <td>3.00</td>\n",
       "      <td>1.00</td>\n",
       "      <td>76.00</td>\n",
       "      <td>8.00</td>\n",
       "      <td>9.00</td>\n",
       "      <td>512.33</td>\n",
       "      <td>2.00</td>\n",
       "    </tr>\n",
       "  </tbody>\n",
       "</table>\n",
       "</div>"
      ],
      "text/plain": [
       "       PassengerId  Pclass    Sex    Age  SibSp  Parch   Fare  Embarked\n",
       "count       418.00  418.00 418.00 332.00 418.00 418.00 417.00    418.00\n",
       "mean      1,100.50    2.27   0.64  30.27   0.45   0.39  35.63      1.40\n",
       "std         120.81    0.84   0.48  14.18   0.90   0.98  55.91      0.85\n",
       "min         892.00    1.00   0.00   0.17   0.00   0.00   0.00      0.00\n",
       "25%         996.25    1.00   0.00  21.00   0.00   0.00   7.90      1.00\n",
       "50%       1,100.50    3.00   1.00  27.00   0.00   0.00  14.45      2.00\n",
       "75%       1,204.75    3.00   1.00  39.00   1.00   0.00  31.50      2.00\n",
       "max       1,309.00    3.00   1.00  76.00   8.00   9.00 512.33      2.00"
      ]
     },
     "execution_count": 18,
     "metadata": {},
     "output_type": "execute_result"
    }
   ],
   "source": [
    "df_test.describe()"
   ]
  },
  {
   "cell_type": "markdown",
   "id": "034f692a",
   "metadata": {},
   "source": [
    "### Variables con valores faltantes"
   ]
  },
  {
   "cell_type": "code",
   "execution_count": 19,
   "id": "2a429a7d",
   "metadata": {
    "ExecuteTime": {
     "end_time": "2023-04-02T22:05:24.073754Z",
     "start_time": "2023-04-02T22:05:24.058946Z"
    }
   },
   "outputs": [
    {
     "data": {
      "text/plain": [
       "Survived      0\n",
       "Pclass        0\n",
       "Sex           0\n",
       "Age         177\n",
       "SibSp         0\n",
       "Parch         0\n",
       "Fare          0\n",
       "Cabin       687\n",
       "Embarked      0\n",
       "dtype: int64"
      ]
     },
     "execution_count": 19,
     "metadata": {},
     "output_type": "execute_result"
    }
   ],
   "source": [
    "df_train.isna().sum()"
   ]
  },
  {
   "cell_type": "code",
   "execution_count": 20,
   "id": "e7de3d71",
   "metadata": {
    "ExecuteTime": {
     "end_time": "2023-04-02T22:05:24.088993Z",
     "start_time": "2023-04-02T22:05:24.075951Z"
    }
   },
   "outputs": [
    {
     "data": {
      "text/plain": [
       "PassengerId      0\n",
       "Pclass           0\n",
       "Sex              0\n",
       "Age             86\n",
       "SibSp            0\n",
       "Parch            0\n",
       "Fare             1\n",
       "Cabin          327\n",
       "Embarked         0\n",
       "dtype: int64"
      ]
     },
     "execution_count": 20,
     "metadata": {},
     "output_type": "execute_result"
    }
   ],
   "source": [
    "df_test.isna().sum()"
   ]
  },
  {
   "cell_type": "markdown",
   "id": "9e5326f5",
   "metadata": {
    "ExecuteTime": {
     "end_time": "2023-04-02T17:23:36.355248Z",
     "start_time": "2023-04-02T17:23:36.337296Z"
    }
   },
   "source": [
    "Tambien podemos observar que la varible edad y cabin tiene valores faltantes, como en el caso de la variable Cabin hay\n",
    "demasiados valores faltantes procedemos a eliminar dicha columna, para el caso de la edad podemos imputar los valores utilizando la media de la edad."
   ]
  },
  {
   "cell_type": "code",
   "execution_count": 21,
   "id": "005cade6",
   "metadata": {
    "ExecuteTime": {
     "end_time": "2023-04-02T22:05:24.107198Z",
     "start_time": "2023-04-02T22:05:24.089990Z"
    }
   },
   "outputs": [
    {
     "name": "stdout",
     "output_type": "stream",
     "text": [
      "% valores faltantes df train Cabin: 77.10%'\n",
      "% valores faltantes df train Age: 19.87%'\n"
     ]
    }
   ],
   "source": [
    "print(f\"% valores faltantes df train Cabin: {'{:.2%}'.format(df_train['Cabin'].isna().sum()/len(df_train))}'\")\n",
    "print(f\"% valores faltantes df train Age: {'{:.2%}'.format(df_train['Age'].isna().sum()/len(df_train))}'\")"
   ]
  },
  {
   "cell_type": "code",
   "execution_count": 22,
   "id": "2162d96f",
   "metadata": {
    "ExecuteTime": {
     "end_time": "2023-04-02T22:05:24.124605Z",
     "start_time": "2023-04-02T22:05:24.109015Z"
    }
   },
   "outputs": [
    {
     "name": "stdout",
     "output_type": "stream",
     "text": [
      "% valores faltantes df test Cabin: 78.23%'\n",
      "% valores faltantes df test Age: 20.57%'\n"
     ]
    }
   ],
   "source": [
    "print(f\"% valores faltantes df test Cabin: {'{:.2%}'.format(df_test['Cabin'].isna().sum()/len(df_test))}'\")\n",
    "print(f\"% valores faltantes df test Age: {'{:.2%}'.format(df_test['Age'].isna().sum()/len(df_test))}'\")"
   ]
  },
  {
   "cell_type": "code",
   "execution_count": 23,
   "id": "7b78d945",
   "metadata": {
    "ExecuteTime": {
     "end_time": "2023-04-02T22:05:24.139975Z",
     "start_time": "2023-04-02T22:05:24.126012Z"
    }
   },
   "outputs": [],
   "source": [
    "df_train = df_train.drop(columns=[\"Cabin\"])\n",
    "df_test = df_test.drop(columns=[\"Cabin\"])"
   ]
  },
  {
   "cell_type": "code",
   "execution_count": 24,
   "id": "53581157",
   "metadata": {
    "ExecuteTime": {
     "end_time": "2023-04-02T22:05:24.155372Z",
     "start_time": "2023-04-02T22:05:24.142091Z"
    }
   },
   "outputs": [],
   "source": [
    "df_train = df_train.fillna({\"Age\":df_train[\"Age\"].mean()})\n",
    "df_test = df_test.fillna({\"Age\":df_train[\"Age\"].mean()})"
   ]
  },
  {
   "cell_type": "code",
   "execution_count": 25,
   "id": "9cff07cd",
   "metadata": {
    "ExecuteTime": {
     "end_time": "2023-04-02T22:05:24.171279Z",
     "start_time": "2023-04-02T22:05:24.156369Z"
    }
   },
   "outputs": [],
   "source": [
    "df_train = df_train.dropna()\n",
    "df_test = df_test.dropna()"
   ]
  },
  {
   "cell_type": "markdown",
   "id": "f5dd5d24",
   "metadata": {},
   "source": [
    "### Agrupación de variables con arbol de decision"
   ]
  },
  {
   "cell_type": "markdown",
   "id": "4b548b7b",
   "metadata": {},
   "source": [
    "Aunque cambiamos las variables categoricas a enteras como es el caso de la edad, podemos observar que la variable tiene muchas categorias por lo cual agruparemos la variable edad realizando analisis grafico."
   ]
  },
  {
   "cell_type": "code",
   "execution_count": 26,
   "id": "9d50dc57",
   "metadata": {
    "ExecuteTime": {
     "end_time": "2023-04-02T22:05:24.557785Z",
     "start_time": "2023-04-02T22:05:24.173276Z"
    }
   },
   "outputs": [
    {
     "data": {
      "text/plain": [
       "<AxesSubplot: xlabel='Survived', ylabel='Age'>"
      ]
     },
     "execution_count": 26,
     "metadata": {},
     "output_type": "execute_result"
    },
    {
     "data": {
      "image/png": "[encoded data removed]",
      "text/plain": [
       "<Figure size 900x400 with 2 Axes>"
      ]
     },
     "metadata": {},
     "output_type": "display_data"
    }
   ],
   "source": [
    "sns.set(font_scale=0.6) # disminuir la letra\n",
    "fig, ax = plt.subplots(ncols=2, figsize=(9, 4)) # subtrama para agrupar graficos\n",
    "plt.subplots_adjust(hspace=0.3)# ajustar espacio\n",
    "\n",
    "sns.histplot(df_train['Age'], kde=False, ax=ax[0])\n",
    "sns.boxplot(x=df_train['Survived'], y=df_train['Age'],ax=ax[1],palette='Set2')"
   ]
  },
  {
   "cell_type": "code",
   "execution_count": 27,
   "id": "8cf98ddf",
   "metadata": {
    "ExecuteTime": {
     "end_time": "2023-04-02T22:05:24.573015Z",
     "start_time": "2023-04-02T22:05:24.559782Z"
    }
   },
   "outputs": [],
   "source": [
    "df_train[\"Age_group\"] = pd.cut(df_train[\"Age\"],bins=range(0,81,5))"
   ]
  },
  {
   "cell_type": "code",
   "execution_count": 28,
   "id": "7e7b802a",
   "metadata": {
    "ExecuteTime": {
     "end_time": "2023-04-02T22:05:24.605725Z",
     "start_time": "2023-04-02T22:05:24.578755Z"
    }
   },
   "outputs": [],
   "source": [
    "media_survived_age = df_train.pivot_table(index=\"Age_group\", columns=\"Survived\",aggfunc=\"count\",values=\"Age\",margins=True)\n",
    "media_survived_age = media_survived_age.reset_index()\n",
    "total = media_survived_age.iloc[-1][\"All\"]\n",
    "media_survived_age = media_survived_age.iloc[:-1]"
   ]
  },
  {
   "cell_type": "code",
   "execution_count": 29,
   "id": "67840561",
   "metadata": {
    "ExecuteTime": {
     "end_time": "2023-04-02T22:05:24.621747Z",
     "start_time": "2023-04-02T22:05:24.607383Z"
    }
   },
   "outputs": [],
   "source": [
    "media_survived_age[\"part\"] = media_survived_age[\"All\"]/total\n",
    "media_survived_age[\"porc_0\"] = media_survived_age[0]/ media_survived_age[\"All\"]\n",
    "media_survived_age[\"porc_1\"] = media_survived_age[1]/ media_survived_age[\"All\"]"
   ]
  },
  {
   "cell_type": "code",
   "execution_count": 30,
   "id": "47a61187",
   "metadata": {
    "ExecuteTime": {
     "end_time": "2023-04-02T22:05:24.637067Z",
     "start_time": "2023-04-02T22:05:24.623743Z"
    }
   },
   "outputs": [
    {
     "data": {
      "text/html": [
       "<div>\n",
       "<style scoped>\n",
       "    .dataframe tbody tr th:only-of-type {\n",
       "        vertical-align: middle;\n",
       "    }\n",
       "\n",
       "    .dataframe tbody tr th {\n",
       "        vertical-align: top;\n",
       "    }\n",
       "\n",
       "    .dataframe thead th {\n",
       "        text-align: right;\n",
       "    }\n",
       "</style>\n",
       "<table border=\"1\" class=\"dataframe\">\n",
       "  <thead>\n",
       "    <tr style=\"text-align: right;\">\n",
       "      <th>Survived</th>\n",
       "      <th>Age_group</th>\n",
       "      <th>0</th>\n",
       "      <th>1</th>\n",
       "      <th>All</th>\n",
       "      <th>part</th>\n",
       "      <th>porc_0</th>\n",
       "      <th>porc_1</th>\n",
       "    </tr>\n",
       "  </thead>\n",
       "  <tbody>\n",
       "    <tr>\n",
       "      <th>0</th>\n",
       "      <td>(0, 5]</td>\n",
       "      <td>13</td>\n",
       "      <td>31</td>\n",
       "      <td>44</td>\n",
       "      <td>0.05</td>\n",
       "      <td>0.30</td>\n",
       "      <td>0.70</td>\n",
       "    </tr>\n",
       "    <tr>\n",
       "      <th>1</th>\n",
       "      <td>(5, 10]</td>\n",
       "      <td>13</td>\n",
       "      <td>7</td>\n",
       "      <td>20</td>\n",
       "      <td>0.02</td>\n",
       "      <td>0.65</td>\n",
       "      <td>0.35</td>\n",
       "    </tr>\n",
       "    <tr>\n",
       "      <th>2</th>\n",
       "      <td>(10, 15]</td>\n",
       "      <td>8</td>\n",
       "      <td>11</td>\n",
       "      <td>19</td>\n",
       "      <td>0.02</td>\n",
       "      <td>0.42</td>\n",
       "      <td>0.58</td>\n",
       "    </tr>\n",
       "    <tr>\n",
       "      <th>3</th>\n",
       "      <td>(15, 20]</td>\n",
       "      <td>63</td>\n",
       "      <td>33</td>\n",
       "      <td>96</td>\n",
       "      <td>0.11</td>\n",
       "      <td>0.66</td>\n",
       "      <td>0.34</td>\n",
       "    </tr>\n",
       "    <tr>\n",
       "      <th>4</th>\n",
       "      <td>(20, 25]</td>\n",
       "      <td>80</td>\n",
       "      <td>42</td>\n",
       "      <td>122</td>\n",
       "      <td>0.14</td>\n",
       "      <td>0.66</td>\n",
       "      <td>0.34</td>\n",
       "    </tr>\n",
       "    <tr>\n",
       "      <th>5</th>\n",
       "      <td>(25, 30]</td>\n",
       "      <td>191</td>\n",
       "      <td>94</td>\n",
       "      <td>285</td>\n",
       "      <td>0.32</td>\n",
       "      <td>0.67</td>\n",
       "      <td>0.33</td>\n",
       "    </tr>\n",
       "    <tr>\n",
       "      <th>6</th>\n",
       "      <td>(30, 35]</td>\n",
       "      <td>47</td>\n",
       "      <td>41</td>\n",
       "      <td>88</td>\n",
       "      <td>0.10</td>\n",
       "      <td>0.53</td>\n",
       "      <td>0.47</td>\n",
       "    </tr>\n",
       "    <tr>\n",
       "      <th>7</th>\n",
       "      <td>(35, 40]</td>\n",
       "      <td>39</td>\n",
       "      <td>28</td>\n",
       "      <td>67</td>\n",
       "      <td>0.08</td>\n",
       "      <td>0.58</td>\n",
       "      <td>0.42</td>\n",
       "    </tr>\n",
       "    <tr>\n",
       "      <th>8</th>\n",
       "      <td>(40, 45]</td>\n",
       "      <td>30</td>\n",
       "      <td>17</td>\n",
       "      <td>47</td>\n",
       "      <td>0.05</td>\n",
       "      <td>0.64</td>\n",
       "      <td>0.36</td>\n",
       "    </tr>\n",
       "    <tr>\n",
       "      <th>9</th>\n",
       "      <td>(45, 50]</td>\n",
       "      <td>23</td>\n",
       "      <td>16</td>\n",
       "      <td>39</td>\n",
       "      <td>0.04</td>\n",
       "      <td>0.59</td>\n",
       "      <td>0.41</td>\n",
       "    </tr>\n",
       "    <tr>\n",
       "      <th>10</th>\n",
       "      <td>(50, 55]</td>\n",
       "      <td>14</td>\n",
       "      <td>10</td>\n",
       "      <td>24</td>\n",
       "      <td>0.03</td>\n",
       "      <td>0.58</td>\n",
       "      <td>0.42</td>\n",
       "    </tr>\n",
       "    <tr>\n",
       "      <th>11</th>\n",
       "      <td>(55, 60]</td>\n",
       "      <td>11</td>\n",
       "      <td>7</td>\n",
       "      <td>18</td>\n",
       "      <td>0.02</td>\n",
       "      <td>0.61</td>\n",
       "      <td>0.39</td>\n",
       "    </tr>\n",
       "    <tr>\n",
       "      <th>12</th>\n",
       "      <td>(60, 65]</td>\n",
       "      <td>10</td>\n",
       "      <td>4</td>\n",
       "      <td>14</td>\n",
       "      <td>0.02</td>\n",
       "      <td>0.71</td>\n",
       "      <td>0.29</td>\n",
       "    </tr>\n",
       "    <tr>\n",
       "      <th>13</th>\n",
       "      <td>(65, 70]</td>\n",
       "      <td>3</td>\n",
       "      <td>0</td>\n",
       "      <td>3</td>\n",
       "      <td>0.00</td>\n",
       "      <td>1.00</td>\n",
       "      <td>0.00</td>\n",
       "    </tr>\n",
       "    <tr>\n",
       "      <th>14</th>\n",
       "      <td>(70, 75]</td>\n",
       "      <td>4</td>\n",
       "      <td>0</td>\n",
       "      <td>4</td>\n",
       "      <td>0.00</td>\n",
       "      <td>1.00</td>\n",
       "      <td>0.00</td>\n",
       "    </tr>\n",
       "    <tr>\n",
       "      <th>15</th>\n",
       "      <td>(75, 80]</td>\n",
       "      <td>0</td>\n",
       "      <td>1</td>\n",
       "      <td>1</td>\n",
       "      <td>0.00</td>\n",
       "      <td>0.00</td>\n",
       "      <td>1.00</td>\n",
       "    </tr>\n",
       "  </tbody>\n",
       "</table>\n",
       "</div>"
      ],
      "text/plain": [
       "Survived Age_group    0   1  All  part  porc_0  porc_1\n",
       "0           (0, 5]   13  31   44  0.05    0.30    0.70\n",
       "1          (5, 10]   13   7   20  0.02    0.65    0.35\n",
       "2         (10, 15]    8  11   19  0.02    0.42    0.58\n",
       "3         (15, 20]   63  33   96  0.11    0.66    0.34\n",
       "4         (20, 25]   80  42  122  0.14    0.66    0.34\n",
       "5         (25, 30]  191  94  285  0.32    0.67    0.33\n",
       "6         (30, 35]   47  41   88  0.10    0.53    0.47\n",
       "7         (35, 40]   39  28   67  0.08    0.58    0.42\n",
       "8         (40, 45]   30  17   47  0.05    0.64    0.36\n",
       "9         (45, 50]   23  16   39  0.04    0.59    0.41\n",
       "10        (50, 55]   14  10   24  0.03    0.58    0.42\n",
       "11        (55, 60]   11   7   18  0.02    0.61    0.39\n",
       "12        (60, 65]   10   4   14  0.02    0.71    0.29\n",
       "13        (65, 70]    3   0    3  0.00    1.00    0.00\n",
       "14        (70, 75]    4   0    4  0.00    1.00    0.00\n",
       "15        (75, 80]    0   1    1  0.00    0.00    1.00"
      ]
     },
     "execution_count": 30,
     "metadata": {},
     "output_type": "execute_result"
    }
   ],
   "source": [
    "media_survived_age"
   ]
  },
  {
   "cell_type": "markdown",
   "id": "38289bb0",
   "metadata": {},
   "source": [
    "De acuerdo con la información obtenida se clasifica la edad en base a la proporcion de los superviviente y no supervivientes y al peso de cada grupo como se muestra acontinuación:"
   ]
  },
  {
   "cell_type": "code",
   "execution_count": 31,
   "id": "8244f1c8",
   "metadata": {
    "ExecuteTime": {
     "end_time": "2023-04-02T22:05:24.655621Z",
     "start_time": "2023-04-02T22:05:24.638064Z"
    }
   },
   "outputs": [],
   "source": [
    "bins = [0, 5, 10, 15, 20, 25, 30, 35, 40, 45, 50, 55, 60, 65, 70, 75, 80]\n",
    "labels = [1, 5, 1, 2, 2, 2, 3, 4, 4, 4, 4, 5, 1, 6, 6, 7]    \n",
    "df_train[\"edad_categ\"] = pd.cut(df_train[\"Age\"], bins=bins, labels=labels, ordered=False)\n",
    "df_train[\"edad_categ\"] = df_train[\"edad_categ\"].astype(int)"
   ]
  },
  {
   "cell_type": "code",
   "execution_count": 32,
   "id": "43c2cd26",
   "metadata": {
    "ExecuteTime": {
     "end_time": "2023-04-02T22:05:24.670980Z",
     "start_time": "2023-04-02T22:05:24.657658Z"
    }
   },
   "outputs": [],
   "source": [
    "bins = [0, 5, 10, 15, 20, 25, 30, 35, 40, 45, 50, 55, 60, 65, 70, 75, 80]\n",
    "labels = [1, 5, 1, 2, 2, 2, 3, 4, 4, 4, 4, 5, 1, 6, 6, 7]    \n",
    "df_test[\"edad_categ\"] = pd.cut(df_test[\"Age\"], bins=bins, labels=labels, ordered=False)\n",
    "df_test[\"edad_categ\"] = df_test[\"edad_categ\"].astype(int)"
   ]
  },
  {
   "cell_type": "markdown",
   "id": "94b14f54",
   "metadata": {},
   "source": [
    "Eliminamos la variable Edad para quedarnos con grupo edad"
   ]
  },
  {
   "cell_type": "code",
   "execution_count": 33,
   "id": "a420259d",
   "metadata": {
    "ExecuteTime": {
     "end_time": "2023-04-02T22:05:24.689082Z",
     "start_time": "2023-04-02T22:05:24.672975Z"
    }
   },
   "outputs": [],
   "source": [
    "df_train = df_train.drop(columns=\"Age\")\n",
    "df_test = df_test.drop(columns=\"Age\")"
   ]
  },
  {
   "cell_type": "markdown",
   "id": "9cf02abf",
   "metadata": {},
   "source": [
    "### Graficamos para ver la correlacion de las variables"
   ]
  },
  {
   "cell_type": "code",
   "execution_count": 34,
   "id": "02a53b0e",
   "metadata": {
    "ExecuteTime": {
     "end_time": "2023-04-02T22:05:25.136785Z",
     "start_time": "2023-04-02T22:05:24.691079Z"
    }
   },
   "outputs": [
    {
     "data": {
      "image/png": "[encoded data removed]",
      "text/plain": [
       "<Figure size 900x300 with 2 Axes>"
      ]
     },
     "metadata": {},
     "output_type": "display_data"
    }
   ],
   "source": [
    "plt.figure(figsize=(9,3))\n",
    "sns.set(font_scale=0.65) # disminuir la letra\n",
    "heatmap= sns.heatmap(df_train.corr(method='spearman'), vmin=-1, vmax=1, annot=True, cmap='coolwarm')\n",
    "heatmap.set_title('Matriz de Correlación', fontdict={'fontsize':15}, pad=10);"
   ]
  },
  {
   "cell_type": "markdown",
   "id": "3c696100",
   "metadata": {},
   "source": [
    "## Modelo predictivo"
   ]
  },
  {
   "cell_type": "markdown",
   "id": "fb862c3e",
   "metadata": {},
   "source": [
    "Obtener un modelo predictivo para saber si una persona a sobrevivido o no en el naufragio de la embarcación Titanic de 1912"
   ]
  },
  {
   "cell_type": "code",
   "execution_count": 35,
   "id": "9f7a5fd5",
   "metadata": {
    "ExecuteTime": {
     "end_time": "2023-04-02T22:05:25.144075Z",
     "start_time": "2023-04-02T22:05:25.138789Z"
    }
   },
   "outputs": [],
   "source": [
    "x = df_train[['Pclass','Sex','SibSp','Parch','Fare','Embarked','edad_categ']]\n",
    "y = df_train['Survived']"
   ]
  },
  {
   "cell_type": "code",
   "execution_count": 36,
   "id": "4eed80fd",
   "metadata": {
    "ExecuteTime": {
     "end_time": "2023-04-02T22:05:25.170932Z",
     "start_time": "2023-04-02T22:05:25.145810Z"
    }
   },
   "outputs": [],
   "source": [
    "x_train, x_test, y_train, y_test = train_test_split(x,y,test_size=0.2, random_state=42)"
   ]
  },
  {
   "cell_type": "code",
   "execution_count": 37,
   "id": "39ed56d6",
   "metadata": {
    "ExecuteTime": {
     "end_time": "2023-04-02T22:05:25.185714Z",
     "start_time": "2023-04-02T22:05:25.172928Z"
    }
   },
   "outputs": [],
   "source": [
    "ids = df_test[\"PassengerId\"]"
   ]
  },
  {
   "cell_type": "markdown",
   "id": "5c77cf32",
   "metadata": {},
   "source": [
    "### Modelo de arbol de decisión"
   ]
  },
  {
   "cell_type": "code",
   "execution_count": 57,
   "id": "63a17799",
   "metadata": {
    "ExecuteTime": {
     "end_time": "2023-04-02T22:30:42.981754Z",
     "start_time": "2023-04-02T22:30:42.959769Z"
    }
   },
   "outputs": [
    {
     "name": "stdout",
     "output_type": "stream",
     "text": [
      "validacion Arbol decision: 0.824438202247191\n",
      "test Arbol decision: 0.7821229050279329\n"
     ]
    }
   ],
   "source": [
    "arbol_decision = DecisionTreeClassifier(max_depth=3)#Crear el modelo\n",
    "arbol_decision.fit(x_train,y_train)# entrenar el modelo\n",
    "y_pred = arbol_decision.predict(x_test)# predecir la supervivencia en el conjunto de prueba\n",
    "print(f'validacion Arbol decision: {arbol_decision.score(x_train,y_train)}')\n",
    "print(f'test Arbol decision: {metrics.accuracy_score(y_test, y_pred)}')"
   ]
  },
  {
   "cell_type": "code",
   "execution_count": 47,
   "id": "defa0708",
   "metadata": {
    "ExecuteTime": {
     "end_time": "2023-04-02T22:13:08.211669Z",
     "start_time": "2023-04-02T22:13:08.196398Z"
    }
   },
   "outputs": [
    {
     "data": {
      "text/html": [
       "<div>\n",
       "<style scoped>\n",
       "    .dataframe tbody tr th:only-of-type {\n",
       "        vertical-align: middle;\n",
       "    }\n",
       "\n",
       "    .dataframe tbody tr th {\n",
       "        vertical-align: top;\n",
       "    }\n",
       "\n",
       "    .dataframe thead th {\n",
       "        text-align: right;\n",
       "    }\n",
       "</style>\n",
       "<table border=\"1\" class=\"dataframe\">\n",
       "  <thead>\n",
       "    <tr style=\"text-align: right;\">\n",
       "      <th></th>\n",
       "      <th>No sobrevivientes</th>\n",
       "      <th>Sobrevivientes</th>\n",
       "    </tr>\n",
       "  </thead>\n",
       "  <tbody>\n",
       "    <tr>\n",
       "      <th>No pred</th>\n",
       "      <td>88</td>\n",
       "      <td>17</td>\n",
       "    </tr>\n",
       "    <tr>\n",
       "      <th>Pred</th>\n",
       "      <td>22</td>\n",
       "      <td>52</td>\n",
       "    </tr>\n",
       "  </tbody>\n",
       "</table>\n",
       "</div>"
      ],
      "text/plain": [
       "         No sobrevivientes  Sobrevivientes\n",
       "No pred                 88              17\n",
       "Pred                    22              52"
      ]
     },
     "execution_count": 47,
     "metadata": {},
     "output_type": "execute_result"
    }
   ],
   "source": [
    "# Crear tabla de contingencia\n",
    "conf_matrix = confusion_matrix(y_test, y_pred)\n",
    "df_conf_matrix = pd.DataFrame(conf_matrix, columns=['No sobrevivientes', 'Sobrevivientes'], index=['No pred', 'Pred'])\n",
    "df_conf_matrix"
   ]
  },
  {
   "cell_type": "markdown",
   "id": "e573784e",
   "metadata": {},
   "source": [
    "### Modelo regresión Logistica"
   ]
  },
  {
   "cell_type": "code",
   "execution_count": 58,
   "id": "1ebd6a87",
   "metadata": {
    "ExecuteTime": {
     "end_time": "2023-04-02T22:30:46.260206Z",
     "start_time": "2023-04-02T22:30:46.201905Z"
    }
   },
   "outputs": [
    {
     "name": "stdout",
     "output_type": "stream",
     "text": [
      "validacion Regresión logistica: 0.824438202247191\n",
      "test regresion Logistica: 0.7821229050279329\n"
     ]
    }
   ],
   "source": [
    "regresionLogistica = LogisticRegression(random_state=42)#Crear el modelo\n",
    "regresionLogistica.fit(x_train, y_train)# entrenar el modelo\n",
    "y_pred = regresionLogistica.predict(x_test)# Realizar predicciones en los datos de prueba\n",
    "print(f'validacion Regresión logistica: {arbol_decision.score(x_train,y_train)}')\n",
    "print(f'test regresion Logistica: {metrics.accuracy_score(y_test, y_pred)}')"
   ]
  },
  {
   "cell_type": "code",
   "execution_count": 42,
   "id": "195a1b30",
   "metadata": {
    "ExecuteTime": {
     "end_time": "2023-04-02T22:11:13.038972Z",
     "start_time": "2023-04-02T22:11:13.028008Z"
    }
   },
   "outputs": [
    {
     "data": {
      "text/html": [
       "<div>\n",
       "<style scoped>\n",
       "    .dataframe tbody tr th:only-of-type {\n",
       "        vertical-align: middle;\n",
       "    }\n",
       "\n",
       "    .dataframe tbody tr th {\n",
       "        vertical-align: top;\n",
       "    }\n",
       "\n",
       "    .dataframe thead th {\n",
       "        text-align: right;\n",
       "    }\n",
       "</style>\n",
       "<table border=\"1\" class=\"dataframe\">\n",
       "  <thead>\n",
       "    <tr style=\"text-align: right;\">\n",
       "      <th></th>\n",
       "      <th>No sobrevivientes</th>\n",
       "      <th>Sobrevivientes</th>\n",
       "    </tr>\n",
       "  </thead>\n",
       "  <tbody>\n",
       "    <tr>\n",
       "      <th>No pred</th>\n",
       "      <td>87</td>\n",
       "      <td>18</td>\n",
       "    </tr>\n",
       "    <tr>\n",
       "      <th>Pred</th>\n",
       "      <td>21</td>\n",
       "      <td>53</td>\n",
       "    </tr>\n",
       "  </tbody>\n",
       "</table>\n",
       "</div>"
      ],
      "text/plain": [
       "         No sobrevivientes  Sobrevivientes\n",
       "No pred                 87              18\n",
       "Pred                    21              53"
      ]
     },
     "execution_count": 42,
     "metadata": {},
     "output_type": "execute_result"
    }
   ],
   "source": [
    "# Crear tabla de contingencia\n",
    "conf_matrix = confusion_matrix(y_test, y_pred)\n",
    "df_conf_matrix = pd.DataFrame(conf_matrix, columns=['No sobrevivientes', 'Sobrevivientes'], index=['No pred', 'Pred'])\n",
    "df_conf_matrix"
   ]
  },
  {
   "cell_type": "markdown",
   "id": "14c459c2",
   "metadata": {},
   "source": [
    "### Modelo Support Vector Machine"
   ]
  },
  {
   "cell_type": "code",
   "execution_count": 56,
   "id": "05643f5c",
   "metadata": {
    "ExecuteTime": {
     "end_time": "2023-04-02T22:29:23.032648Z",
     "start_time": "2023-04-02T22:29:16.498420Z"
    }
   },
   "outputs": [
    {
     "name": "stdout",
     "output_type": "stream",
     "text": [
      "test Support Vector Machine: 0.7821229050279329\n"
     ]
    }
   ],
   "source": [
    "vectorMachie = svm.SVC(kernel='linear', random_state=42)#Crear el modelo SVM\n",
    "vectorMachie.fit(x_train, y_train)# entrenar el modelo\n",
    "y_pred = vectorMachie.predict(x_test)# Realizar predicciones en los datos de prueba\n",
    "print(f'validacion Suppor Vector Machine: {arbol_decision.score(x_train,y_train)}')\n",
    "print(f'test Support Vector Machine: {metrics.accuracy_score(y_test, y_pred)}')"
   ]
  },
  {
   "cell_type": "code",
   "execution_count": 45,
   "id": "b4aee42e",
   "metadata": {
    "ExecuteTime": {
     "end_time": "2023-04-02T22:11:28.107757Z",
     "start_time": "2023-04-02T22:11:28.089915Z"
    }
   },
   "outputs": [
    {
     "data": {
      "text/html": [
       "<div>\n",
       "<style scoped>\n",
       "    .dataframe tbody tr th:only-of-type {\n",
       "        vertical-align: middle;\n",
       "    }\n",
       "\n",
       "    .dataframe tbody tr th {\n",
       "        vertical-align: top;\n",
       "    }\n",
       "\n",
       "    .dataframe thead th {\n",
       "        text-align: right;\n",
       "    }\n",
       "</style>\n",
       "<table border=\"1\" class=\"dataframe\">\n",
       "  <thead>\n",
       "    <tr style=\"text-align: right;\">\n",
       "      <th></th>\n",
       "      <th>No sobrevivientes</th>\n",
       "      <th>Sobrevivientes</th>\n",
       "    </tr>\n",
       "  </thead>\n",
       "  <tbody>\n",
       "    <tr>\n",
       "      <th>No pred</th>\n",
       "      <td>88</td>\n",
       "      <td>17</td>\n",
       "    </tr>\n",
       "    <tr>\n",
       "      <th>Pred</th>\n",
       "      <td>22</td>\n",
       "      <td>52</td>\n",
       "    </tr>\n",
       "  </tbody>\n",
       "</table>\n",
       "</div>"
      ],
      "text/plain": [
       "         No sobrevivientes  Sobrevivientes\n",
       "No pred                 88              17\n",
       "Pred                    22              52"
      ]
     },
     "execution_count": 45,
     "metadata": {},
     "output_type": "execute_result"
    }
   ],
   "source": [
    "# Crear tabla de contingencia\n",
    "conf_matrix = confusion_matrix(y_test, y_pred)\n",
    "df_conf_matrix = pd.DataFrame(conf_matrix, columns=['No sobrevivientes', 'Sobrevivientes'], index=['No pred', 'Pred'])\n",
    "df_conf_matrix"
   ]
  },
  {
   "cell_type": "markdown",
   "id": "1e053443",
   "metadata": {},
   "source": [
    "### Modelo KNeighbors"
   ]
  },
  {
   "cell_type": "code",
   "execution_count": 59,
   "id": "48a66432",
   "metadata": {
    "ExecuteTime": {
     "end_time": "2023-04-02T22:31:41.911372Z",
     "start_time": "2023-04-02T22:31:41.893511Z"
    }
   },
   "outputs": [
    {
     "name": "stdout",
     "output_type": "stream",
     "text": [
      "validacion Kneighbors: 0.824438202247191\n",
      "test Kneighbors:0.7877094972067039\n"
     ]
    }
   ],
   "source": [
    "KNeighbors = KNeighborsClassifier(n_neighbors=5)#Crear el modelo SVM\n",
    "KNeighbors.fit(x_train, y_train)# entrenar el modelo\n",
    "y_pred = KNeighbors.predict(x_test)# Realizar predicciones en los datos de prueba\n",
    "print(f'validacion Kneighbors: {arbol_decision.score(x_train,y_train)}')\n",
    "print(f'test Kneighbors:{metrics.accuracy_score(y_test, y_pred)}')"
   ]
  },
  {
   "cell_type": "code",
   "execution_count": 50,
   "id": "49b8e4fa",
   "metadata": {
    "ExecuteTime": {
     "end_time": "2023-04-02T22:13:44.934601Z",
     "start_time": "2023-04-02T22:13:44.916762Z"
    }
   },
   "outputs": [
    {
     "data": {
      "text/html": [
       "<div>\n",
       "<style scoped>\n",
       "    .dataframe tbody tr th:only-of-type {\n",
       "        vertical-align: middle;\n",
       "    }\n",
       "\n",
       "    .dataframe tbody tr th {\n",
       "        vertical-align: top;\n",
       "    }\n",
       "\n",
       "    .dataframe thead th {\n",
       "        text-align: right;\n",
       "    }\n",
       "</style>\n",
       "<table border=\"1\" class=\"dataframe\">\n",
       "  <thead>\n",
       "    <tr style=\"text-align: right;\">\n",
       "      <th></th>\n",
       "      <th>No sobrevivientes</th>\n",
       "      <th>Sobrevivientes</th>\n",
       "    </tr>\n",
       "  </thead>\n",
       "  <tbody>\n",
       "    <tr>\n",
       "      <th>No pred</th>\n",
       "      <td>91</td>\n",
       "      <td>14</td>\n",
       "    </tr>\n",
       "    <tr>\n",
       "      <th>Pred</th>\n",
       "      <td>24</td>\n",
       "      <td>50</td>\n",
       "    </tr>\n",
       "  </tbody>\n",
       "</table>\n",
       "</div>"
      ],
      "text/plain": [
       "         No sobrevivientes  Sobrevivientes\n",
       "No pred                 91              14\n",
       "Pred                    24              50"
      ]
     },
     "execution_count": 50,
     "metadata": {},
     "output_type": "execute_result"
    }
   ],
   "source": [
    "# Crear tabla de contingencia\n",
    "conf_matrix = confusion_matrix(y_test, y_pred)\n",
    "df_conf_matrix = pd.DataFrame(conf_matrix, columns=['No sobrevivientes', 'Sobrevivientes'], index=['No pred', 'Pred'])\n",
    "df_conf_matrix"
   ]
  },
  {
   "cell_type": "markdown",
   "id": "376f4119",
   "metadata": {},
   "source": [
    "### GIT\n",
    "https://github.com/jancelperez/ciencia_datos_UNAD.git"
   ]
  },
  {
   "cell_type": "markdown",
   "id": "607b1d8f",
   "metadata": {},
   "source": [
    "## Bibliografia"
   ]
  },
  {
   "cell_type": "markdown",
   "id": "e1542967",
   "metadata": {},
   "source": [
    "References\n",
    "Descenso de gradiente. (n.d.). Khan Academy. Retrieved April 2, 2023, from https://es.khanacademy.org/math/multivariable-calculus/applications-of-multivariable-derivatives/optimizing-multivariable-functions/a/what-is-gradient-descent\n",
    "\n",
    "Rodríguez, D. (2020, April 20). Entrenamiento, validación y test con Scikit-learn. Analytics Lane. https://www.analyticslane.com/2020/04/20/entrenamiento-validacion-y-test-con-scikit-learn/\n",
    "\n",
    "Roy, B. (2020, July 10). Todo Sobre El manejo De Datos Faltantes. DataSource.Ai. https://www.datasource.ai/es/data-science-articles/todo-sobre-el-manejo-de-datos-faltantes\n",
    "\n",
    "Selección de características en el proceso de ciencia de datos en equipos - Azure Architecture Center. (n.d.). Microsoft.com. Retrieved April 2, 2023, from https://learn.microsoft.com/es-es/azure/architecture/data-science-process/select-features\n",
    "\n",
    "Wikipedia contributors. (n.d.). Validación cruzada. Wikipedia, The Free Encyclopedia. https://es.wikipedia.org/w/index.php?title=Validaci%C3%B3n_cruzada&oldid=124047241\n",
    "\n",
    "(N.d.). Amazon.com. Retrieved April 2, 2023, from https://aws.amazon.com/es/what-is/feature-engineering/"
   ]
  }
 ],
 "metadata": {
  "kernelspec": {
   "display_name": "Python 3 (ipykernel)",
   "language": "python",
   "name": "python3"
  },
  "language_info": {
   "codemirror_mode": {
    "name": "ipython",
    "version": 3
   },
   "file_extension": ".py",
   "mimetype": "text/x-python",
   "name": "python",
   "nbconvert_exporter": "python",
   "pygments_lexer": "ipython3",
   "version": "3.9.7"
  }
 },
 "nbformat": 4,
 "nbformat_minor": 5
}
